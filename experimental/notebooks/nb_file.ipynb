{
 "cells": [
  {
   "attachments": {},
   "cell_type": "markdown",
   "metadata": {},
   "source": [
    "## Using subprocesses to manage files"
   ]
  },
  {
   "cell_type": "code",
   "execution_count": null,
   "metadata": {},
   "outputs": [],
   "source": []
  },
  {
   "attachments": {},
   "cell_type": "markdown",
   "metadata": {},
   "source": [
    "Testing Magic"
   ]
  },
  {
   "cell_type": "code",
   "execution_count": 1,
   "metadata": {},
   "outputs": [
    {
     "ename": "ImportError",
     "evalue": "failed to find libmagic.  Check your installation",
     "output_type": "error",
     "traceback": [
      "\u001b[1;31m---------------------------------------------------------------------------\u001b[0m",
      "\u001b[1;31mImportError\u001b[0m                               Traceback (most recent call last)",
      "\u001b[1;32mc:\\Users\\mok_z\\Documents\\GitHub\\pyrus\\experimental\\notebooks\\nb_file.ipynb Cell 4\u001b[0m in \u001b[0;36m<cell line: 1>\u001b[1;34m()\u001b[0m\n\u001b[1;32m----> <a href='vscode-notebook-cell:/c%3A/Users/mok_z/Documents/GitHub/pyrus/experimental/notebooks/nb_file.ipynb#W4sZmlsZQ%3D%3D?line=0'>1</a>\u001b[0m \u001b[39mimport\u001b[39;00m \u001b[39mmagic\u001b[39;00m\n\u001b[0;32m      <a href='vscode-notebook-cell:/c%3A/Users/mok_z/Documents/GitHub/pyrus/experimental/notebooks/nb_file.ipynb#W4sZmlsZQ%3D%3D?line=2'>3</a>\u001b[0m file \u001b[39m=\u001b[39m magic\u001b[39m.\u001b[39mfrom_file(\u001b[39m'\u001b[39m\u001b[39mC:\u001b[39m\u001b[39m\\\\\u001b[39;00m\u001b[39mUsers\u001b[39m\u001b[39m\\\\\u001b[39;00m\u001b[39mmok_z\u001b[39m\u001b[39m\\\\\u001b[39;00m\u001b[39mDocuments\u001b[39m\u001b[39m\\\\\u001b[39;00m\u001b[39mGitHub\u001b[39m\u001b[39m\\\\\u001b[39;00m\u001b[39mpyrus\u001b[39m\u001b[39m\\\\\u001b[39;00m\u001b[39mtestdata\u001b[39m\u001b[39m\\\\\u001b[39;00m\u001b[39mdatatables\u001b[39m\u001b[39m\\\\\u001b[39;00m\u001b[39mcsv\u001b[39m\u001b[39m\\\\\u001b[39;00m\u001b[39mpyrus_test_dt_name_age_city_state.csv\u001b[39m\u001b[39m'\u001b[39m, mime\u001b[39m=\u001b[39m\u001b[39mTrue\u001b[39;00m)\n\u001b[0;32m      <a href='vscode-notebook-cell:/c%3A/Users/mok_z/Documents/GitHub/pyrus/experimental/notebooks/nb_file.ipynb#W4sZmlsZQ%3D%3D?line=4'>5</a>\u001b[0m \u001b[39mprint\u001b[39m(file)\n",
      "File \u001b[1;32m~\\AppData\\Local\\Packages\\PythonSoftwareFoundation.Python.3.9_qbz5n2kfra8p0\\LocalCache\\local-packages\\Python39\\site-packages\\magic\\__init__.py:209\u001b[0m, in \u001b[0;36m<module>\u001b[1;34m\u001b[0m\n\u001b[0;32m    206\u001b[0m     \u001b[39mreturn\u001b[39;00m m\u001b[39m.\u001b[39mfrom_descriptor(fd)\n\u001b[0;32m    208\u001b[0m \u001b[39mfrom\u001b[39;00m \u001b[39m.\u001b[39;00m \u001b[39mimport\u001b[39;00m loader\n\u001b[1;32m--> 209\u001b[0m libmagic \u001b[39m=\u001b[39m loader\u001b[39m.\u001b[39;49mload_lib()\n\u001b[0;32m    211\u001b[0m magic_t \u001b[39m=\u001b[39m ctypes\u001b[39m.\u001b[39mc_void_p\n\u001b[0;32m    214\u001b[0m \u001b[39mdef\u001b[39;00m \u001b[39merrorcheck_null\u001b[39m(result, func, args):\n",
      "File \u001b[1;32m~\\AppData\\Local\\Packages\\PythonSoftwareFoundation.Python.3.9_qbz5n2kfra8p0\\LocalCache\\local-packages\\Python39\\site-packages\\magic\\loader.py:49\u001b[0m, in \u001b[0;36mload_lib\u001b[1;34m()\u001b[0m\n\u001b[0;32m     46\u001b[0m     \u001b[39mpass\u001b[39;00m\n\u001b[0;32m     47\u001b[0m \u001b[39melse\u001b[39;00m:\n\u001b[0;32m     48\u001b[0m   \u001b[39m# It is better to raise an ImportError since we are importing magic module\u001b[39;00m\n\u001b[1;32m---> 49\u001b[0m   \u001b[39mraise\u001b[39;00m \u001b[39mImportError\u001b[39;00m(\u001b[39m'\u001b[39m\u001b[39mfailed to find libmagic.  Check your installation\u001b[39m\u001b[39m'\u001b[39m)\n",
      "\u001b[1;31mImportError\u001b[0m: failed to find libmagic.  Check your installation"
     ]
    }
   ],
   "source": [
    "import magic\n",
    "\n",
    "file = magic.from_file('C:\\\\Users\\\\mok_z\\\\Documents\\\\GitHub\\\\pyrus\\\\testdata\\\\datatables\\\\csv\\\\pyrus_test_dt_name_age_city_state.csv', mime=True)\n",
    "\n",
    "print(file)\n"
   ]
  }
 ],
 "metadata": {
  "kernelspec": {
   "display_name": "Python 3",
   "language": "python",
   "name": "python3"
  },
  "language_info": {
   "codemirror_mode": {
    "name": "ipython",
    "version": 3
   },
   "file_extension": ".py",
   "mimetype": "text/x-python",
   "name": "python",
   "nbconvert_exporter": "python",
   "pygments_lexer": "ipython3",
   "version": "3.9.13"
  },
  "orig_nbformat": 4
 },
 "nbformat": 4,
 "nbformat_minor": 2
}
