{
 "cells": [
  {
   "cell_type": "code",
   "execution_count": 4,
   "metadata": {},
   "outputs": [
    {
     "name": "stdout",
     "output_type": "stream",
     "text": [
      "Die Kunst Des Programmierens\n",
      "Ein Mann und Sein Hund\n",
      "Über Den Wolken\n",
      "Das Ist der Hammer\n",
      "Mit Großer Macht Kommt Große Verantwortung\n",
      "Wenn Du Es Wünschst\n",
      "In Den Wäldern\n",
      "Mit der Bahn\n",
      "Ohne Dich\n",
      "Bei der Arbeit\n",
      "Nach Dem Regen\n"
     ]
    }
   ],
   "source": [
    "from pyrus import str_manager as sm\n",
    "\n",
    "\n",
    "german_titles = [\"Die Kunst des Programmierens\", \n",
    "                 \"Ein Mann und sein Hund\", \n",
    "                 \"Über den Wolken\", \n",
    "                 \"Das ist der Hammer!\", \n",
    "                 \"Mit großer Macht kommt große Verantwortung\", \n",
    "                 \"Wenn du es wünschst\", \n",
    "                 \"in den Wäldern\", \n",
    "                 \"mit der Bahn\", \n",
    "                 \"ohne dich\", \n",
    "                 \"bei der Arbeit\", \n",
    "                 \"nach dem Regen\"]\n",
    "\n",
    "for title in german_titles:\n",
    "    title_presenter = sm.TitlePresenter(title)\n",
    "    print(title_presenter.present_title('de'))"
   ]
  },
  {
   "cell_type": "code",
   "execution_count": 5,
   "metadata": {},
   "outputs": [
    {
     "name": "stdout",
     "output_type": "stream",
     "text": [
      "this is a mixed case string\n"
     ]
    }
   ],
   "source": [
    "normalised = sm.string_normaliser(\"ThIs Is A MiXeD CaSe StRiNg\")\n",
    "print(normalised)"
   ]
  }
 ],
 "metadata": {
  "kernelspec": {
   "display_name": "Python 3",
   "language": "python",
   "name": "python3"
  },
  "language_info": {
   "codemirror_mode": {
    "name": "ipython",
    "version": 3
   },
   "file_extension": ".py",
   "mimetype": "text/x-python",
   "name": "python",
   "nbconvert_exporter": "python",
   "pygments_lexer": "ipython3",
   "version": "3.10.4"
  },
  "orig_nbformat": 4,
  "vscode": {
   "interpreter": {
    "hash": "aee8b7b246df8f9039afb4144a1f6fd8d2ca17a180786b69acc140d282b71a49"
   }
  }
 },
 "nbformat": 4,
 "nbformat_minor": 2
}
