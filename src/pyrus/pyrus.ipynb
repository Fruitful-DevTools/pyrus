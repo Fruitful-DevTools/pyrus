{
 "cells": [
  {
   "attachments": {},
   "cell_type": "markdown",
   "metadata": {},
   "source": [
    "# Pyrus"
   ]
  },
  {
   "attachments": {},
   "cell_type": "markdown",
   "metadata": {},
   "source": [
    "## Modules"
   ]
  },
  {
   "attachments": {},
   "cell_type": "markdown",
   "metadata": {},
   "source": [
    "### STRING MANAGER\n",
    "\n",
    "This module provides a series of operations that can be used to manage string data."
   ]
  },
  {
   "attachments": {},
   "cell_type": "markdown",
   "metadata": {},
   "source": [
    "#### string_normaliser\n",
    "\n",
    "This function normalises string data by performing several operations:\n",
    "- Converting all characters to lowercase\n",
    "- Removing leading/trailing white space\n",
    "- Removing double spaces\n",
    "- Replacing accented and special characters with their ASCII equivalents\n",
    "\n",
    "Args:\n",
    "    string (str): The string to be normalised.\n",
    "\n",
    "Returns:\n",
    "    normalised_string (str): The normalized string data."
   ]
  },
  {
   "cell_type": "code",
   "execution_count": 16,
   "metadata": {},
   "outputs": [],
   "source": [
    "from unidecode import unidecode\n",
    "import unicodedata\n",
    "import regex as re\n",
    "import string\n",
    "\n",
    "whitespace = string.whitespace\n",
    "\n",
    "def string_normaliser(string, normalise_encoding=False):\n",
    "\n",
    "    \n",
    "    # Turn the entire string to lowercase\n",
    "    lowercase_string = string.lower()\n",
    "\n",
    "    if normalise_encoding:\n",
    "        # Transform string into canonical representation\n",
    "        unicode_normalised_string = unicodedata.normalize(\n",
    "            'NFKD', lowercase_string)\n",
    "\n",
    "        # Encode string into ASCII format,\n",
    "        # Ignore letters that can't be turned into ASCII\n",
    "        lowercase_string = unidecode(unicode_normalised_string)\n",
    "    \n",
    "    replaced_string = lowercase_string.replace('@', '').replace('#', '')\n",
    "    # Strip the string of all whitespace\n",
    "    stripped_string = replaced_string.strip()\n",
    "    stripped_string = stripped_string.replace(whitespace, '')\n",
    "    \n",
    "\n",
    "    # Remove special characters from the string\n",
    "    pattern = re.compile(r'[^\\p{L}\\s\\d@#]')\n",
    "    special_character_removed_string = pattern.sub('', stripped_string)\n",
    "\n",
    "    \n",
    "    # While the string contains double spaces\n",
    "    # This ensures triple and more spaces are replaced\n",
    "    while '  ' in special_character_removed_string:\n",
    "        # Turn double spaces into single spaces\n",
    "       special_character_removed_string = special_character_removed_string.replace('  ', ' ')\n",
    "\n",
    "    normalised_string = special_character_removed_string\n",
    "\n",
    "    return normalised_string"
   ]
  },
  {
   "attachments": {},
   "cell_type": "markdown",
   "metadata": {},
   "source": [
    "##### string_normaliser: tests"
   ]
  },
  {
   "cell_type": "code",
   "execution_count": 15,
   "metadata": {},
   "outputs": [
    {
     "name": "stderr",
     "output_type": "stream",
     "text": [
      "......\n",
      "----------------------------------------------------------------------\n",
      "Ran 6 tests in 0.004s\n",
      "\n",
      "OK\n"
     ]
    },
    {
     "data": {
      "text/plain": [
       "<unittest.main.TestProgram at 0x105977a30>"
      ]
     },
     "execution_count": 15,
     "metadata": {},
     "output_type": "execute_result"
    }
   ],
   "source": [
    "import unittest\n",
    "\n",
    "class StringNormaliserTests(unittest.TestCase):\n",
    "\n",
    "    def subtester(self, test_values):\n",
    "        \n",
    "        for value, expected_result in test_values:\n",
    "            with self.subTest(value=value):\n",
    "                result = string_normaliser(value)\n",
    "                self.assertEqual(result, expected_result)\n",
    "    \n",
    "    def test_case_normalisation(self):\n",
    "        test_values = [\n",
    "            (\"Hello World!\", \"hello world\"),\n",
    "            (\"ThIs Is A MiXeD CaSe StRiNg\", \"this is a mixed case string\"),\n",
    "            (\"Áccéntéd Cháráctérs\", \"áccéntéd cháráctérs\"),\n",
    "            (\"ALL UPPERCASE\", \"all uppercase\"),\n",
    "            (\"\", \"\"),  # Empty string should remain the same\n",
    "        ]\n",
    "    \n",
    "        self.subtester(test_values)\n",
    "\n",
    "    def test_whitespace_normalisation(self):\n",
    "        test_values = [\n",
    "            (\"   Remove  extra  spaces   \", \"remove extra spaces\"),\n",
    "            (\"  Leading and trailing spaces  \", \"leading and trailing spaces\"),\n",
    "            (\"    \", \"\"),  # All whitespace, expect empty string\n",
    "            (\"\", \"\")\n",
    "        ]\n",
    "        \n",
    "        self.subtester(test_values)\n",
    "\n",
    "    def test_double_space_normalisation(self):\n",
    "        test_values = [\n",
    "            (\"This  has  double  spaces\", \"this has double spaces\"),\n",
    "            (\"No  double  spaces\", \"no double spaces\"),\n",
    "            (\"Single spaces\", \"single spaces\"),\n",
    "            (\"\", \"\"),  # Empty string should remain the same\n",
    "        ]\n",
    "        \n",
    "        self.subtester(test_values)\n",
    "\n",
    "    def test_encoding_normalisation(self):\n",
    "        test_values = [\n",
    "            (\"Thís Štríng Hás Áccénted Characters\", \"thís štríng hás áccénted characters\"),\n",
    "            (\"Ünicöde Äscii Êncoding\", \"ünicöde äscii êncoding\"),\n",
    "            (\"Keep 1234567890 digits\", \"keep 1234567890 digits\"),\n",
    "            (\"\", \"\"),  # Empty string should remain the same\n",
    "        ]\n",
    "        \n",
    "        self.subtester(test_values)\n",
    "\n",
    "    def test_special_char_normalisation(self):\n",
    "        test_values = [\n",
    "            (\"Hello@# World!\", \"hello world\"),\n",
    "            (\"Remove !@#$ special %^&* characters\", \"remove special characters\"),\n",
    "            (\"Keep digits 1234567890\", \"keep digits 1234567890\"),\n",
    "            (\"\", \"\"),  # Empty string should remain the same\n",
    "        ]\n",
    "        \n",
    "        self.subtester(test_values)\n",
    "\n",
    "    def test_combined_normaisation(self):\n",
    "        test_values = [\n",
    "            # Normal test values\n",
    "            (\"Hello World!\", \"hello world\"),\n",
    "            (\"   Remove  extra  spaces   \", \"remove extra spaces\"),\n",
    "            (\"Thís Štríng Hás Áccénted Characters\", \"thís štríng hás áccénted characters\"),\n",
    "            (\"Ünicöde Äscii Êncoding\", \"ünicöde äscii êncoding\"),\n",
    "            (\"Hello@# World!\", \"hello world\"),\n",
    "            (\"Remove !@#$ special %^&* characters\", \"remove special characters\"),\n",
    "            (\"Keep digits 1234567890\", \"keep digits 1234567890\"),\n",
    "\n",
    "            # Extreme test values\n",
    "            (\"    \", \"\"),  # All whitespace, expect empty string\n",
    "            (\"!@#$%^&*()_+\", \"\"),  # All special characters, expect empty string\n",
    "            (\"ÁČÇÈÑTÉÐ ßÞÉÇÏÀL ÇHÁRÁÇTÉRS\", \"áčçèñtéð ßþéçïàl çháráçtérs\"),\n",
    "            (\"ÛÑÎÇØÐÊ ÄŠÇÏÏ ÊÑÇØÐÏÑG\", \"ûñîçøðê äšçïï êñçøðïñg\"),\n",
    "            (\"     ÛÑÎÇØÐÊ   \", \"ûñîçøðê\"),  # Leading/trailing whitespace with accented characters\n",
    "            (\"\\n    ÛÑÎÇØÐÊ     ÄŠÇÏÏ     ÊÑÇØÐÏÑG    \", \"ûñîçøðê äšçïï êñçøðïñg\"),  # Multiple operations with accented characters and whitespace\n",
    "        ]\n",
    "        \n",
    "        self.subtester(test_values)\n",
    "\n",
    "\n",
    "unittest.main(argv=[''], exit=False)"
   ]
  },
  {
   "attachments": {},
   "cell_type": "markdown",
   "metadata": {},
   "source": [
    "### Presenter"
   ]
  },
  {
   "attachments": {},
   "cell_type": "markdown",
   "metadata": {},
   "source": [
    "#### Presneter - Articles, Conjunctions and Prepositions\n",
    "\n",
    "Conventions on Articles, Conjunctions, Prepositions:\n",
    "\n",
    "Group 1: Articles, conjunctions, and prepositions are usually not capitalized in titles, unless they are the first word or part of a proper noun.\n",
    "\n",
    "French\n",
    "\n",
    "Group 2: Articles, conjunctions, and prepositions are typically not capitalized unless they are the first or last word, or if they have four or more letters.\n",
    "\n",
    "German\n",
    "Dutch\n",
    "\n",
    "Group 3: Articles, conjunctions, and prepositions are generally not capitalized in titles, unless they are the first or last word, or if they are stressed as part of the title's style or emphasis.\n",
    "\n",
    "Spanish\n",
    "\n",
    "Group 4: Articles, conjunctions, and prepositions are typically not capitalized in titles, except when they are the first or last word, or if they have special emphasis or are part of proper nouns.\n",
    "\n",
    "Italian\n",
    "Portuguese\n",
    "\n",
    "Group 5: Articles, conjunctions, and prepositions are generally not capitalized in titles unless they are the first or last word, or if they have special emphasis or are part of proper nouns.\n",
    "\n",
    "Norwegian\n",
    "Swedish\n",
    "Danish\n",
    "Finnish"
   ]
  },
  {
   "attachments": {},
   "cell_type": "markdown",
   "metadata": {},
   "source": []
  },
  {
   "cell_type": "code",
   "execution_count": null,
   "metadata": {},
   "outputs": [],
   "source": []
  },
  {
   "attachments": {},
   "cell_type": "markdown",
   "metadata": {},
   "source": [
    "## Librarian"
   ]
  },
  {
   "attachments": {},
   "cell_type": "markdown",
   "metadata": {},
   "source": [
    "## Data Validator"
   ]
  }
 ],
 "metadata": {
  "kernelspec": {
   "display_name": "Python 3",
   "language": "python",
   "name": "python3"
  },
  "language_info": {
   "codemirror_mode": {
    "name": "ipython",
    "version": 3
   },
   "file_extension": ".py",
   "mimetype": "text/x-python",
   "name": "python",
   "nbconvert_exporter": "python",
   "pygments_lexer": "ipython3",
   "version": "3.10.4"
  },
  "orig_nbformat": 4,
  "vscode": {
   "interpreter": {
    "hash": "aee8b7b246df8f9039afb4144a1f6fd8d2ca17a180786b69acc140d282b71a49"
   }
  }
 },
 "nbformat": 4,
 "nbformat_minor": 2
}
